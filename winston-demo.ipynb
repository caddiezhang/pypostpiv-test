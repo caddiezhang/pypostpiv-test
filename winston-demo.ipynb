{
 "cells": [
  {
   "cell_type": "code",
   "execution_count": 1,
   "metadata": {
    "collapsed": false
   },
   "outputs": [],
   "source": [
    "import numpy as np\n",
    "import pypostpiv as p3\n",
    "import pypostpiv.utilities as p3u\n",
    "import matplotlib.pyplot as plt\n",
    "%matplotlib inline\n",
    "\n",
    "test1 = r'C:/Users/Jia Cheng Hu/GitHub/PyPostPiv/test1/'\n",
    "test2 = r'C:/Users/Jia Cheng Hu/GitHub/PyPostPiv/test2/'\n",
    "test3 = r'C:/Users/Jia Cheng Hu/GitHub/PyPostPiv/test3/'"
   ]
  },
  {
   "cell_type": "markdown",
   "metadata": {},
   "source": [
    "# Suppress Warnings"
   ]
  },
  {
   "cell_type": "code",
   "execution_count": 2,
   "metadata": {
    "collapsed": true
   },
   "outputs": [],
   "source": [
    "import warnings\n",
    "warnings.filterwarnings('ignore')"
   ]
  },
  {
   "cell_type": "markdown",
   "metadata": {},
   "source": [
    "# Convert DaVis Format to HDF5"
   ]
  },
  {
   "cell_type": "code",
   "execution_count": 3,
   "metadata": {
    "collapsed": false
   },
   "outputs": [],
   "source": [
    "p3u.convert_2d_2c_vc7(test1, 'test1.hdf5')\n",
    "p3u.convert_2d_2c_vc7(test2, 'test2.hdf5')\n",
    "p3u.convert_2d_2c_vc7(test2, 'test3.hdf5')"
   ]
  },
  {
   "cell_type": "markdown",
   "metadata": {},
   "source": [
    "# Create 2D 2 Components PIV Double Camera Project"
   ]
  },
  {
   "cell_type": "code",
   "execution_count": 4,
   "metadata": {
    "collapsed": false,
    "scrolled": false
   },
   "outputs": [
    {
     "name": "stdout",
     "output_type": "stream",
     "text": [
      "cam_0\n",
      "----grid_size\n",
      "--------dx\n",
      "--------dy\n",
      "----velocity\n",
      "--------u\n",
      "--------v\n",
      "--------x\n",
      "--------y\n",
      "cam_1\n",
      "----grid_size\n",
      "--------dx\n",
      "--------dy\n",
      "----velocity\n",
      "--------u\n",
      "--------v\n",
      "--------x\n",
      "--------y\n"
     ]
    }
   ],
   "source": [
    "t1p = p3.piv.Project2D2C('test1.hdf5')\n",
    "t1p.list_data()"
   ]
  },
  {
   "cell_type": "code",
   "execution_count": 5,
   "metadata": {
    "collapsed": false
   },
   "outputs": [
    {
     "data": {
      "image/png": "[encoded data removed]",
      "text/plain": [
       "<matplotlib.figure.Figure at 0x1ea150c1400>"
      ]
     },
     "metadata": {},
     "output_type": "display_data"
    }
   ],
   "source": [
    "x0, y0, U0 = t1p.get_vel_mag_mean(cam_num=0)\n",
    "x1, y1, U1 = t1p.get_vel_mag_mean(cam_num=1)\n",
    "\n",
    "fig, axs = plt.subplots(1,2,figsize=(10,4))\n",
    "axs[0].contourf(x0,y0,U0)\n",
    "axs[1].contourf(x1,y1,U1);"
   ]
  },
  {
   "cell_type": "code",
   "execution_count": 6,
   "metadata": {
    "collapsed": false
   },
   "outputs": [
    {
     "name": "stdout",
     "output_type": "stream",
     "text": [
      "cam_0\n",
      "----grid_size\n",
      "--------dx\n",
      "--------dy\n",
      "----velocity\n",
      "--------u\n",
      "--------v\n",
      "--------x\n",
      "--------y\n",
      "----vel_mag_mean\n",
      "--------x\n",
      "--------y\n",
      "--------U\n",
      "cam_1\n",
      "----grid_size\n",
      "--------dx\n",
      "--------dy\n",
      "----velocity\n",
      "--------u\n",
      "--------v\n",
      "--------x\n",
      "--------y\n",
      "----vel_mag_mean\n",
      "--------x\n",
      "--------y\n",
      "--------U\n"
     ]
    }
   ],
   "source": [
    "t1p.list_data()"
   ]
  },
  {
   "cell_type": "markdown",
   "metadata": {},
   "source": [
    "# Create 2D 2 Components PIV Single Camera Project "
   ]
  },
  {
   "cell_type": "code",
   "execution_count": 7,
   "metadata": {
    "collapsed": true
   },
   "outputs": [],
   "source": [
    "t2p = p3.piv.Project2D2C('test2.hdf5')"
   ]
  },
  {
   "cell_type": "code",
   "execution_count": 8,
   "metadata": {
    "collapsed": false,
    "scrolled": false
   },
   "outputs": [
    {
     "name": "stdout",
     "output_type": "stream",
     "text": [
      "cam_0\n",
      "----grid_size\n",
      "--------dx\n",
      "--------dy\n",
      "----velocity\n",
      "--------u\n",
      "--------v\n",
      "--------x\n",
      "--------y\n",
      "----vel_mag\n",
      "--------x\n",
      "--------y\n",
      "--------U\n",
      "----vel_mean\n",
      "--------x\n",
      "--------y\n",
      "--------u\n",
      "--------v\n",
      "----vel_mag_mean\n",
      "--------x\n",
      "--------y\n",
      "--------U\n",
      "----vel_rms\n",
      "--------x\n",
      "--------y\n",
      "--------u\n",
      "--------v\n",
      "----turb_ke\n",
      "--------x\n",
      "--------y\n",
      "--------ke\n",
      "----turb_covar\n",
      "--------x\n",
      "--------y\n",
      "--------uv\n"
     ]
    }
   ],
   "source": [
    "t2p.get_vel_mag();\n",
    "t2p.get_vel_mean();\n",
    "t2p.get_vel_mag_mean();\n",
    "t2p.get_turb_rms();\n",
    "t2p.get_turb_ke();\n",
    "t2p.get_turb_covar();\n",
    "t2p.list_data()"
   ]
  },
  {
   "cell_type": "code",
   "execution_count": 9,
   "metadata": {
    "collapsed": false
   },
   "outputs": [
    {
     "data": {
      "text/plain": [
       "<matplotlib.contour.QuadContourSet at 0x1ea1b21dba8>"
      ]
     },
     "execution_count": 9,
     "metadata": {},
     "output_type": "execute_result"
    },
    {
     "data": {
      "image/png": "[encoded data removed]",
      "text/plain": [
       "<matplotlib.figure.Figure at 0x1ea1b1aea90>"
      ]
     },
     "metadata": {},
     "output_type": "display_data"
    }
   ],
   "source": [
    "x,y,U = t2p.get_vel_mag_mean()\n",
    "plt.contourf(x,y,U)"
   ]
  }
 ],
 "metadata": {
  "kernelspec": {
   "display_name": "Python 3",
   "language": "python",
   "name": "python3"
  },
  "language_info": {
   "codemirror_mode": {
    "name": "ipython",
    "version": 3
   },
   "file_extension": ".py",
   "mimetype": "text/x-python",
   "name": "python",
   "nbconvert_exporter": "python",
   "pygments_lexer": "ipython3",
   "version": "3.6.0"
  }
 },
 "nbformat": 4,
 "nbformat_minor": 2
}
